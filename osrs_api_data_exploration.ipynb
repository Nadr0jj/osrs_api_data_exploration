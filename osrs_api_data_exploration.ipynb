{
  "nbformat": 4,
  "nbformat_minor": 0,
  "metadata": {
    "colab": {
      "name": "GE.ipynb",
      "provenance": [],
      "collapsed_sections": []
    },
    "kernelspec": {
      "name": "python3",
      "display_name": "Python 3"
    },
    "language_info": {
      "name": "python"
    }
  },
  "cells": [
    {
      "cell_type": "code",
      "execution_count": 1,
      "metadata": {
        "id": "rzVc66Az-l3E"
      },
      "outputs": [],
      "source": [
        "import requests\n",
        "import json\n",
        "import numpy as np\n",
        "import pandas as pd\n",
        "import scipy.stats\n",
        "import collections\n",
        "import matplotlib.pyplot as plt\n",
        "import seaborn as sns\n",
        "sns.set()"
      ]
    },
    {
      "cell_type": "code",
      "source": [
        "# API host requests a descriptibe user User-Agent w/ usecase description and contact (discord in this case)\n",
        "user_agent = \"Exploring the API in a jupyter notebook in pursuit of developing daily report generator to support flipping - @Nadr0j#5823\""
      ],
      "metadata": {
        "id": "COAXc54T_BI4"
      },
      "execution_count": 2,
      "outputs": []
    },
    {
      "cell_type": "markdown",
      "source": [
        "# Goals\n",
        "The wikipedia for the MMORPG Runescape has just made real-time pricing data available via their API. My goal is to explore the available information and to develope some preliminary functions for aggregating data and understanding the movement of in-game item prices, their distributions, and profit potential for the buying and selling of these items."
      ],
      "metadata": {
        "id": "ogZWsbNWgEVJ"
      }
    },
    {
      "cell_type": "markdown",
      "source": [
        "# Util function\n",
        "Many json responses come in form \n",
        "  \n",
        "\n",
        "    [{field1: value11,\n",
        "     field2: value12,\n",
        "     ...\n",
        "     },\n",
        "     {field1: valuen1,\n",
        "      field2: valuen2,\n",
        "      ...\n",
        "     }]\n",
        "\n",
        "This function will allow us to map this structure into a structure which can be turned into a pandas.DataFrame"
      ],
      "metadata": {
        "id": "MCXyc7eDZrPH"
      }
    },
    {
      "cell_type": "code",
      "source": [
        "def json_to_dict(json_response):\n",
        "    result = collections.defaultdict(list)\n",
        "    for datum in json_response:\n",
        "        for k, v in datum.items():\n",
        "            result[k].append(v)\n",
        "\n",
        "    result = dict(result)\n",
        "    return result"
      ],
      "metadata": {
        "id": "krObSJdnYCX9"
      },
      "execution_count": 3,
      "outputs": []
    },
    {
      "cell_type": "markdown",
      "source": [
        "# Generate limit table"
      ],
      "metadata": {
        "id": "cXgxkWMO_Ya_"
      }
    },
    {
      "cell_type": "code",
      "source": [
        "# Gives list of objects w/ name, id, examine, members, lowalch, highalch, ge buy limit, icon name\n",
        "mapping_endpoint = \"https://prices.runescape.wiki/api/v1/osrs/mapping\""
      ],
      "metadata": {
        "id": "0RNHe-1M-29A"
      },
      "execution_count": 4,
      "outputs": []
    },
    {
      "cell_type": "code",
      "source": [
        "r = requests.get(mapping_endpoint, headers={\"User-Agent\": user_agent})"
      ],
      "metadata": {
        "id": "SkLrC0X0-8hr"
      },
      "execution_count": 5,
      "outputs": []
    },
    {
      "cell_type": "code",
      "source": [
        "js = json.loads(r.text)"
      ],
      "metadata": {
        "id": "GBiJmXrcAPhY"
      },
      "execution_count": 6,
      "outputs": []
    },
    {
      "cell_type": "code",
      "source": [
        "js[0]"
      ],
      "metadata": {
        "colab": {
          "base_uri": "https://localhost:8080/"
        },
        "id": "MmzqWiMD2os4",
        "outputId": "a398074c-dc09-4715-9a5f-47907ae94322"
      },
      "execution_count": 7,
      "outputs": [
        {
          "output_type": "execute_result",
          "data": {
            "text/plain": [
              "{'examine': 'Fabulously ancient mage protection enchanted in the 3rd Age.',\n",
              " 'highalch': 30300,\n",
              " 'icon': '3rd age amulet.png',\n",
              " 'id': 10344,\n",
              " 'limit': 8,\n",
              " 'lowalch': 20200,\n",
              " 'members': True,\n",
              " 'name': '3rd age amulet',\n",
              " 'value': 50500}"
            ]
          },
          "metadata": {},
          "execution_count": 7
        }
      ]
    },
    {
      "cell_type": "markdown",
      "source": [
        "### This data requires a special if-else statement to prevent ragged-list issues so we manually parse"
      ],
      "metadata": {
        "id": "UzkYBR6xhwIr"
      }
    },
    {
      "cell_type": "code",
      "source": [
        "ids = []\n",
        "names = []\n",
        "limits = []\n",
        "\n",
        "for item in js:\n",
        "    id = item['id']\n",
        "    name = item['name']\n",
        "    if 'limit' in item:\n",
        "        limit = item['limit']\n",
        "    else:\n",
        "        continue\n",
        "\n",
        "    ids.append(id)\n",
        "    names.append(name)\n",
        "    limits.append(limit)\n",
        "\n",
        "limit_table = pd.DataFrame({\n",
        "    'id': ids,\n",
        "    'name': names,\n",
        "    'limit': limits \n",
        "})\n",
        "\n",
        "limit_table.set_index(['id'], inplace=True)\n",
        "limit_table"
      ],
      "metadata": {
        "colab": {
          "base_uri": "https://localhost:8080/",
          "height": 455
        },
        "id": "dCPbcQ7WAcQ-",
        "outputId": "c4a6b2d3-72bf-4a05-af79-15a89c8c3859"
      },
      "execution_count": 8,
      "outputs": [
        {
          "output_type": "execute_result",
          "data": {
            "text/html": [
              "\n",
              "  <div id=\"df-f399ee20-32c7-4f3e-85fe-4bee9263d4e6\">\n",
              "    <div class=\"colab-df-container\">\n",
              "      <div>\n",
              "<style scoped>\n",
              "    .dataframe tbody tr th:only-of-type {\n",
              "        vertical-align: middle;\n",
              "    }\n",
              "\n",
              "    .dataframe tbody tr th {\n",
              "        vertical-align: top;\n",
              "    }\n",
              "\n",
              "    .dataframe thead th {\n",
              "        text-align: right;\n",
              "    }\n",
              "</style>\n",
              "<table border=\"1\" class=\"dataframe\">\n",
              "  <thead>\n",
              "    <tr style=\"text-align: right;\">\n",
              "      <th></th>\n",
              "      <th>name</th>\n",
              "      <th>limit</th>\n",
              "    </tr>\n",
              "    <tr>\n",
              "      <th>id</th>\n",
              "      <th></th>\n",
              "      <th></th>\n",
              "    </tr>\n",
              "  </thead>\n",
              "  <tbody>\n",
              "    <tr>\n",
              "      <th>10344</th>\n",
              "      <td>3rd age amulet</td>\n",
              "      <td>8</td>\n",
              "    </tr>\n",
              "    <tr>\n",
              "      <th>20011</th>\n",
              "      <td>3rd age axe</td>\n",
              "      <td>40</td>\n",
              "    </tr>\n",
              "    <tr>\n",
              "      <th>12424</th>\n",
              "      <td>3rd age bow</td>\n",
              "      <td>8</td>\n",
              "    </tr>\n",
              "    <tr>\n",
              "      <th>12437</th>\n",
              "      <td>3rd age cloak</td>\n",
              "      <td>8</td>\n",
              "    </tr>\n",
              "    <tr>\n",
              "      <th>23345</th>\n",
              "      <td>3rd age druidic cloak</td>\n",
              "      <td>8</td>\n",
              "    </tr>\n",
              "    <tr>\n",
              "      <th>...</th>\n",
              "      <td>...</td>\n",
              "      <td>...</td>\n",
              "    </tr>\n",
              "    <tr>\n",
              "      <th>4812</th>\n",
              "      <td>Zogre bones</td>\n",
              "      <td>3000</td>\n",
              "    </tr>\n",
              "    <tr>\n",
              "      <th>19912</th>\n",
              "      <td>Zombie head (Treasure Trails)</td>\n",
              "      <td>4</td>\n",
              "    </tr>\n",
              "    <tr>\n",
              "      <th>12938</th>\n",
              "      <td>Zul-andra teleport</td>\n",
              "      <td>10000</td>\n",
              "    </tr>\n",
              "    <tr>\n",
              "      <th>12934</th>\n",
              "      <td>Zulrah's scales</td>\n",
              "      <td>30000</td>\n",
              "    </tr>\n",
              "    <tr>\n",
              "      <th>22647</th>\n",
              "      <td>Zuriel's staff</td>\n",
              "      <td>10</td>\n",
              "    </tr>\n",
              "  </tbody>\n",
              "</table>\n",
              "<p>3776 rows × 2 columns</p>\n",
              "</div>\n",
              "      <button class=\"colab-df-convert\" onclick=\"convertToInteractive('df-f399ee20-32c7-4f3e-85fe-4bee9263d4e6')\"\n",
              "              title=\"Convert this dataframe to an interactive table.\"\n",
              "              style=\"display:none;\">\n",
              "        \n",
              "  <svg xmlns=\"http://www.w3.org/2000/svg\" height=\"24px\"viewBox=\"0 0 24 24\"\n",
              "       width=\"24px\">\n",
              "    <path d=\"M0 0h24v24H0V0z\" fill=\"none\"/>\n",
              "    <path d=\"M18.56 5.44l.94 2.06.94-2.06 2.06-.94-2.06-.94-.94-2.06-.94 2.06-2.06.94zm-11 1L8.5 8.5l.94-2.06 2.06-.94-2.06-.94L8.5 2.5l-.94 2.06-2.06.94zm10 10l.94 2.06.94-2.06 2.06-.94-2.06-.94-.94-2.06-.94 2.06-2.06.94z\"/><path d=\"M17.41 7.96l-1.37-1.37c-.4-.4-.92-.59-1.43-.59-.52 0-1.04.2-1.43.59L10.3 9.45l-7.72 7.72c-.78.78-.78 2.05 0 2.83L4 21.41c.39.39.9.59 1.41.59.51 0 1.02-.2 1.41-.59l7.78-7.78 2.81-2.81c.8-.78.8-2.07 0-2.86zM5.41 20L4 18.59l7.72-7.72 1.47 1.35L5.41 20z\"/>\n",
              "  </svg>\n",
              "      </button>\n",
              "      \n",
              "  <style>\n",
              "    .colab-df-container {\n",
              "      display:flex;\n",
              "      flex-wrap:wrap;\n",
              "      gap: 12px;\n",
              "    }\n",
              "\n",
              "    .colab-df-convert {\n",
              "      background-color: #E8F0FE;\n",
              "      border: none;\n",
              "      border-radius: 50%;\n",
              "      cursor: pointer;\n",
              "      display: none;\n",
              "      fill: #1967D2;\n",
              "      height: 32px;\n",
              "      padding: 0 0 0 0;\n",
              "      width: 32px;\n",
              "    }\n",
              "\n",
              "    .colab-df-convert:hover {\n",
              "      background-color: #E2EBFA;\n",
              "      box-shadow: 0px 1px 2px rgba(60, 64, 67, 0.3), 0px 1px 3px 1px rgba(60, 64, 67, 0.15);\n",
              "      fill: #174EA6;\n",
              "    }\n",
              "\n",
              "    [theme=dark] .colab-df-convert {\n",
              "      background-color: #3B4455;\n",
              "      fill: #D2E3FC;\n",
              "    }\n",
              "\n",
              "    [theme=dark] .colab-df-convert:hover {\n",
              "      background-color: #434B5C;\n",
              "      box-shadow: 0px 1px 3px 1px rgba(0, 0, 0, 0.15);\n",
              "      filter: drop-shadow(0px 1px 2px rgba(0, 0, 0, 0.3));\n",
              "      fill: #FFFFFF;\n",
              "    }\n",
              "  </style>\n",
              "\n",
              "      <script>\n",
              "        const buttonEl =\n",
              "          document.querySelector('#df-f399ee20-32c7-4f3e-85fe-4bee9263d4e6 button.colab-df-convert');\n",
              "        buttonEl.style.display =\n",
              "          google.colab.kernel.accessAllowed ? 'block' : 'none';\n",
              "\n",
              "        async function convertToInteractive(key) {\n",
              "          const element = document.querySelector('#df-f399ee20-32c7-4f3e-85fe-4bee9263d4e6');\n",
              "          const dataTable =\n",
              "            await google.colab.kernel.invokeFunction('convertToInteractive',\n",
              "                                                     [key], {});\n",
              "          if (!dataTable) return;\n",
              "\n",
              "          const docLinkHtml = 'Like what you see? Visit the ' +\n",
              "            '<a target=\"_blank\" href=https://colab.research.google.com/notebooks/data_table.ipynb>data table notebook</a>'\n",
              "            + ' to learn more about interactive tables.';\n",
              "          element.innerHTML = '';\n",
              "          dataTable['output_type'] = 'display_data';\n",
              "          await google.colab.output.renderOutput(dataTable, element);\n",
              "          const docLink = document.createElement('div');\n",
              "          docLink.innerHTML = docLinkHtml;\n",
              "          element.appendChild(docLink);\n",
              "        }\n",
              "      </script>\n",
              "    </div>\n",
              "  </div>\n",
              "  "
            ],
            "text/plain": [
              "                                name  limit\n",
              "id                                         \n",
              "10344                 3rd age amulet      8\n",
              "20011                    3rd age axe     40\n",
              "12424                    3rd age bow      8\n",
              "12437                  3rd age cloak      8\n",
              "23345          3rd age druidic cloak      8\n",
              "...                              ...    ...\n",
              "4812                     Zogre bones   3000\n",
              "19912  Zombie head (Treasure Trails)      4\n",
              "12938             Zul-andra teleport  10000\n",
              "12934                Zulrah's scales  30000\n",
              "22647                 Zuriel's staff     10\n",
              "\n",
              "[3776 rows x 2 columns]"
            ]
          },
          "metadata": {},
          "execution_count": 8
        }
      ]
    },
    {
      "cell_type": "markdown",
      "source": [
        "# Get 24hr data on margins, volume"
      ],
      "metadata": {
        "id": "ty__oqOqIUAo"
      }
    },
    {
      "cell_type": "code",
      "source": [
        "def get_daily_metrics(item_id, user_agent, period='5m'):\n",
        "    '''\n",
        "    Params:\n",
        "        item_id:int \n",
        "            The unique id corresponding to an in-game item\n",
        "        user_agent:str\n",
        "            The API User-Agent\n",
        "        period:str \n",
        "            An API parameter either '5m', '1h', '6h', or '24hr'. This determines\n",
        "            the time period over which to populate the returned dataframe with\n",
        "            pricing information for item corresponding to item_id\n",
        "    Returns:\n",
        "        df:pandas.DataFrame\n",
        "            Dataframe with schema (timestamp, avgHighPrice, avgLowPrice,\n",
        "                                   highPriceVolume, lowPriceVolume)\n",
        "    '''\n",
        "\n",
        "    day_endpoint = \"https://prices.runescape.wiki/api/v1/osrs/timeseries\"\n",
        "    payload = {'id': item_id, 'timestep': period}\n",
        "\n",
        "    r = requests.get(day_endpoint, headers={\"User-Agent\": user_agent}, params=payload)\n",
        "    data = json.loads(r.text)['data']\n",
        "    data_dict = json_to_dict(data)\n",
        "    \n",
        "    df = pd.DataFrame(data_dict)\n",
        "\n",
        "    return df"
      ],
      "metadata": {
        "id": "aczSbb2PSgsM"
      },
      "execution_count": 9,
      "outputs": []
    },
    {
      "cell_type": "code",
      "source": [
        "limit_table.loc[4736]"
      ],
      "metadata": {
        "colab": {
          "base_uri": "https://localhost:8080/"
        },
        "id": "Wkr1N23cYK0-",
        "outputId": "5ac680b8-9e54-44c4-9498-8927220b65eb"
      },
      "execution_count": 10,
      "outputs": [
        {
          "output_type": "execute_result",
          "data": {
            "text/plain": [
              "name     Karil's leathertop\n",
              "limit                    15\n",
              "Name: 4736, dtype: object"
            ]
          },
          "metadata": {},
          "execution_count": 10
        }
      ]
    },
    {
      "cell_type": "code",
      "source": [
        "df = get_daily_metrics(4736, user_agent)\n",
        "df.head()"
      ],
      "metadata": {
        "colab": {
          "base_uri": "https://localhost:8080/",
          "height": 206
        },
        "id": "DdqnajZ_aZ7u",
        "outputId": "b113415e-7732-4d30-890b-6435768726ea"
      },
      "execution_count": 11,
      "outputs": [
        {
          "output_type": "execute_result",
          "data": {
            "text/html": [
              "\n",
              "  <div id=\"df-fe25a430-e603-41e3-84b4-209d1c6fc1f6\">\n",
              "    <div class=\"colab-df-container\">\n",
              "      <div>\n",
              "<style scoped>\n",
              "    .dataframe tbody tr th:only-of-type {\n",
              "        vertical-align: middle;\n",
              "    }\n",
              "\n",
              "    .dataframe tbody tr th {\n",
              "        vertical-align: top;\n",
              "    }\n",
              "\n",
              "    .dataframe thead th {\n",
              "        text-align: right;\n",
              "    }\n",
              "</style>\n",
              "<table border=\"1\" class=\"dataframe\">\n",
              "  <thead>\n",
              "    <tr style=\"text-align: right;\">\n",
              "      <th></th>\n",
              "      <th>timestamp</th>\n",
              "      <th>avgHighPrice</th>\n",
              "      <th>avgLowPrice</th>\n",
              "      <th>highPriceVolume</th>\n",
              "      <th>lowPriceVolume</th>\n",
              "    </tr>\n",
              "  </thead>\n",
              "  <tbody>\n",
              "    <tr>\n",
              "      <th>0</th>\n",
              "      <td>1644946200</td>\n",
              "      <td>3335511.0</td>\n",
              "      <td>NaN</td>\n",
              "      <td>1</td>\n",
              "      <td>0</td>\n",
              "    </tr>\n",
              "    <tr>\n",
              "      <th>1</th>\n",
              "      <td>1644946500</td>\n",
              "      <td>3329674.0</td>\n",
              "      <td>3271624.0</td>\n",
              "      <td>1</td>\n",
              "      <td>2</td>\n",
              "    </tr>\n",
              "    <tr>\n",
              "      <th>2</th>\n",
              "      <td>1644946800</td>\n",
              "      <td>3323846.0</td>\n",
              "      <td>3275447.0</td>\n",
              "      <td>1</td>\n",
              "      <td>6</td>\n",
              "    </tr>\n",
              "    <tr>\n",
              "      <th>3</th>\n",
              "      <td>1644947100</td>\n",
              "      <td>3322391.0</td>\n",
              "      <td>3277358.0</td>\n",
              "      <td>4</td>\n",
              "      <td>1</td>\n",
              "    </tr>\n",
              "    <tr>\n",
              "      <th>4</th>\n",
              "      <td>1644947400</td>\n",
              "      <td>3321906.0</td>\n",
              "      <td>3276904.0</td>\n",
              "      <td>3</td>\n",
              "      <td>3</td>\n",
              "    </tr>\n",
              "  </tbody>\n",
              "</table>\n",
              "</div>\n",
              "      <button class=\"colab-df-convert\" onclick=\"convertToInteractive('df-fe25a430-e603-41e3-84b4-209d1c6fc1f6')\"\n",
              "              title=\"Convert this dataframe to an interactive table.\"\n",
              "              style=\"display:none;\">\n",
              "        \n",
              "  <svg xmlns=\"http://www.w3.org/2000/svg\" height=\"24px\"viewBox=\"0 0 24 24\"\n",
              "       width=\"24px\">\n",
              "    <path d=\"M0 0h24v24H0V0z\" fill=\"none\"/>\n",
              "    <path d=\"M18.56 5.44l.94 2.06.94-2.06 2.06-.94-2.06-.94-.94-2.06-.94 2.06-2.06.94zm-11 1L8.5 8.5l.94-2.06 2.06-.94-2.06-.94L8.5 2.5l-.94 2.06-2.06.94zm10 10l.94 2.06.94-2.06 2.06-.94-2.06-.94-.94-2.06-.94 2.06-2.06.94z\"/><path d=\"M17.41 7.96l-1.37-1.37c-.4-.4-.92-.59-1.43-.59-.52 0-1.04.2-1.43.59L10.3 9.45l-7.72 7.72c-.78.78-.78 2.05 0 2.83L4 21.41c.39.39.9.59 1.41.59.51 0 1.02-.2 1.41-.59l7.78-7.78 2.81-2.81c.8-.78.8-2.07 0-2.86zM5.41 20L4 18.59l7.72-7.72 1.47 1.35L5.41 20z\"/>\n",
              "  </svg>\n",
              "      </button>\n",
              "      \n",
              "  <style>\n",
              "    .colab-df-container {\n",
              "      display:flex;\n",
              "      flex-wrap:wrap;\n",
              "      gap: 12px;\n",
              "    }\n",
              "\n",
              "    .colab-df-convert {\n",
              "      background-color: #E8F0FE;\n",
              "      border: none;\n",
              "      border-radius: 50%;\n",
              "      cursor: pointer;\n",
              "      display: none;\n",
              "      fill: #1967D2;\n",
              "      height: 32px;\n",
              "      padding: 0 0 0 0;\n",
              "      width: 32px;\n",
              "    }\n",
              "\n",
              "    .colab-df-convert:hover {\n",
              "      background-color: #E2EBFA;\n",
              "      box-shadow: 0px 1px 2px rgba(60, 64, 67, 0.3), 0px 1px 3px 1px rgba(60, 64, 67, 0.15);\n",
              "      fill: #174EA6;\n",
              "    }\n",
              "\n",
              "    [theme=dark] .colab-df-convert {\n",
              "      background-color: #3B4455;\n",
              "      fill: #D2E3FC;\n",
              "    }\n",
              "\n",
              "    [theme=dark] .colab-df-convert:hover {\n",
              "      background-color: #434B5C;\n",
              "      box-shadow: 0px 1px 3px 1px rgba(0, 0, 0, 0.15);\n",
              "      filter: drop-shadow(0px 1px 2px rgba(0, 0, 0, 0.3));\n",
              "      fill: #FFFFFF;\n",
              "    }\n",
              "  </style>\n",
              "\n",
              "      <script>\n",
              "        const buttonEl =\n",
              "          document.querySelector('#df-fe25a430-e603-41e3-84b4-209d1c6fc1f6 button.colab-df-convert');\n",
              "        buttonEl.style.display =\n",
              "          google.colab.kernel.accessAllowed ? 'block' : 'none';\n",
              "\n",
              "        async function convertToInteractive(key) {\n",
              "          const element = document.querySelector('#df-fe25a430-e603-41e3-84b4-209d1c6fc1f6');\n",
              "          const dataTable =\n",
              "            await google.colab.kernel.invokeFunction('convertToInteractive',\n",
              "                                                     [key], {});\n",
              "          if (!dataTable) return;\n",
              "\n",
              "          const docLinkHtml = 'Like what you see? Visit the ' +\n",
              "            '<a target=\"_blank\" href=https://colab.research.google.com/notebooks/data_table.ipynb>data table notebook</a>'\n",
              "            + ' to learn more about interactive tables.';\n",
              "          element.innerHTML = '';\n",
              "          dataTable['output_type'] = 'display_data';\n",
              "          await google.colab.output.renderOutput(dataTable, element);\n",
              "          const docLink = document.createElement('div');\n",
              "          docLink.innerHTML = docLinkHtml;\n",
              "          element.appendChild(docLink);\n",
              "        }\n",
              "      </script>\n",
              "    </div>\n",
              "  </div>\n",
              "  "
            ],
            "text/plain": [
              "    timestamp  avgHighPrice  avgLowPrice  highPriceVolume  lowPriceVolume\n",
              "0  1644946200     3335511.0          NaN                1               0\n",
              "1  1644946500     3329674.0    3271624.0                1               2\n",
              "2  1644946800     3323846.0    3275447.0                1               6\n",
              "3  1644947100     3322391.0    3277358.0                4               1\n",
              "4  1644947400     3321906.0    3276904.0                3               3"
            ]
          },
          "metadata": {},
          "execution_count": 11
        }
      ]
    },
    {
      "cell_type": "code",
      "source": [
        "num_NaN = df.shape[0] - df.dropna().shape[0]\n",
        "print(f'The API call for item id 4736 had {num_NaN} NaN rows using the \"5m\" api param')"
      ],
      "metadata": {
        "colab": {
          "base_uri": "https://localhost:8080/"
        },
        "id": "7Z26DqWbwAqm",
        "outputId": "c29da027-9bfb-489a-ec00-f33957d422b6"
      },
      "execution_count": 12,
      "outputs": [
        {
          "output_type": "stream",
          "name": "stdout",
          "text": [
            "The API call for item id 4736 had 95 NaN rows using the \"5m\" api param\n"
          ]
        }
      ]
    },
    {
      "cell_type": "markdown",
      "source": [
        "The high na rate is acceptable since we have an extremely high data resolution using the '5m' api parameter. However, if the NA rate were this high for a '24hr' api call too much data might be missing for meaningful inference to be performed."
      ],
      "metadata": {
        "id": "uUwRLzlvxVAC"
      }
    },
    {
      "cell_type": "code",
      "source": [
        "df[['avgHighPrice', 'avgLowPrice', 'highPriceVolume', 'lowPriceVolume']].hist(figsize = (10, 10))"
      ],
      "metadata": {
        "colab": {
          "base_uri": "https://localhost:8080/",
          "height": 697
        },
        "id": "NJR5o7rqanWA",
        "outputId": "b9c0fd1b-89f1-40b3-810d-a0d2b02b02d5"
      },
      "execution_count": 13,
      "outputs": [
        {
          "output_type": "execute_result",
          "data": {
            "text/plain": [
              "array([[<matplotlib.axes._subplots.AxesSubplot object at 0x7f690d9f0b90>,\n",
              "        <matplotlib.axes._subplots.AxesSubplot object at 0x7f690d943c50>],\n",
              "       [<matplotlib.axes._subplots.AxesSubplot object at 0x7f690d908290>,\n",
              "        <matplotlib.axes._subplots.AxesSubplot object at 0x7f690d8bf890>]],\n",
              "      dtype=object)"
            ]
          },
          "metadata": {},
          "execution_count": 13
        },
        {
          "output_type": "display_data",
          "data": {
            "image/png": "[encoded data removed]",
            "text/plain": [
              "<Figure size 720x720 with 4 Axes>"
            ]
          },
          "metadata": {
            "needs_background": "light"
          }
        }
      ]
    },
    {
      "cell_type": "markdown",
      "source": [
        "# Define code to produce margin confidence intervals"
      ],
      "metadata": {
        "id": "QSRdS57H_bjR"
      }
    },
    {
      "cell_type": "code",
      "source": [
        "def get_margin_confidence_interval(margin_series, confidence=0.95):\n",
        "    # margin_series is a pd data series\n",
        "    # Returns numpy array of values\n",
        "    deg_freedom = len(margin_series) - 1\n",
        "    lower_conf, upper_conf = scipy.stats.t.interval(confidence, deg_freedom,\n",
        "                                                    loc=margin_series.mean(), \n",
        "                                                    scale=margin_series.std())\n",
        "    return lower_conf, upper_conf"
      ],
      "metadata": {
        "id": "AbFyQTunABv0"
      },
      "execution_count": 14,
      "outputs": []
    },
    {
      "cell_type": "markdown",
      "source": [
        "# Define a function to summarize daily metrics"
      ],
      "metadata": {
        "id": "_HOaeAj2xqrE"
      }
    },
    {
      "cell_type": "code",
      "source": [
        "def get_metric_summaries(item_id, user_agent, window=60, return_pre_avg=False):\n",
        "    '''\n",
        "    Returns a DataFrame of summary statistics for item_id over the last\n",
        "    window number of 5-minute time chunks.\n",
        "\n",
        "    Params:\n",
        "        item_id:int \n",
        "            The unique id corresponding to an in-game item\n",
        "        user_agent:str\n",
        "            The API User-Agent\n",
        "        window:int (optional) (default=60)\n",
        "            The number of past-minutes from which to gather pricing data.\n",
        "            ex. window=60 would be the pricing data from last hour\n",
        "        return_pre_avg:bool (optional) (default=False)\n",
        "            If False (default) then function returns df of summary statistics\n",
        "            If True then function returns raw data before computation of summary stats\n",
        "    \n",
        "    Returns:\n",
        "        pandas.DataFrame (see Param return_pre_avg description)\n",
        "    '''\n",
        "\n",
        "    last_n_rows = min(window // 5, 300) # Divide window into 5 minute chunks :: 300 is max\n",
        "    df = get_daily_metrics(item_id, user_agent)\n",
        "    df = df.iloc[-last_n_rows:]\n",
        "\n",
        "    # Calculate how much data in lost by dropping na\n",
        "    pre_drop_num_rows = df.shape[0]\n",
        "    df = df.dropna()\n",
        "    post_drop_num_rows = df.shape[0]\n",
        "\n",
        "    if df.shape[0] < 2: # Not enough trades for this item exist in window\n",
        "        return -1 # Other functions toss results when encountering -1\n",
        "\n",
        "    # Calculate margin\n",
        "    # * .99 calculates the 1% selling tax\n",
        "    df['margin'] = df['avgHighPrice'] * .99 - df['avgLowPrice']\n",
        "    # Calculate pressure (tendency for +/- in margin)\n",
        "    df['pressure'] = df['highPriceVolume'] - df['lowPriceVolume']\n",
        "    \n",
        "    if return_pre_avg: # For diagnostics and other analyses\n",
        "        return df\n",
        "\n",
        "    # Add margin confidence interval\n",
        "    margin_confidence_interval_low, margin_confidence_interval_high = get_margin_confidence_interval(df['margin'])\n",
        "    # Records how much data was lost\n",
        "    df['resolution'] = post_drop_num_rows / pre_drop_num_rows\n",
        "    # Average data over columns\n",
        "    df = df.mean(axis=0)\n",
        "    # Drop useless data\n",
        "    df = df.drop(['timestamp', 'avgHighPrice', 'avgLowPrice', 'highPriceVolume', 'lowPriceVolume'])\n",
        "    # Add margin confidence val\n",
        "    df['lowest_margin_95%_conf'] = margin_confidence_interval_low\n",
        "    df['highest_margin_95%_conf'] = margin_confidence_interval_high\n",
        "\n",
        "    # Relabel margin to be avg_margin\n",
        "    df.rename({'margin': \"avg_margin\"}, axis='columns', inplace=True)\n",
        "\n",
        "    return df"
      ],
      "metadata": {
        "id": "LmeinxmozAiC"
      },
      "execution_count": 15,
      "outputs": []
    },
    {
      "cell_type": "markdown",
      "source": [
        "- avg_margin  - The average price between the instant buy and instant sell prices with tax taken into account\n",
        "- pressure - The average difference between # of high and low price volume trades\n",
        "- Resolution - The percent of original data recieved (in rows) by API call that had no NaN vals\n",
        "- lowest/highest_margin_95% conf - the upper and lower bounds of the 95% confidence interval of the true margin "
      ],
      "metadata": {
        "id": "SsgHvZGcazUR"
      }
    },
    {
      "cell_type": "code",
      "source": [
        "get_metric_summaries(4151, user_agent, window=360)"
      ],
      "metadata": {
        "colab": {
          "base_uri": "https://localhost:8080/"
        },
        "id": "iz-E_veb_7o2",
        "outputId": "5bff97ee-6a7e-40ee-b9d2-8c894da3d3d7"
      },
      "execution_count": 16,
      "outputs": [
        {
          "output_type": "execute_result",
          "data": {
            "text/plain": [
              "avg_margin                 10507.811528\n",
              "pressure                      -0.430556\n",
              "resolution                     1.000000\n",
              "lowest_margin_95%_conf    -11722.722088\n",
              "highest_margin_95%_conf    32738.345144\n",
              "dtype: float64"
            ]
          },
          "metadata": {},
          "execution_count": 16
        }
      ]
    },
    {
      "cell_type": "code",
      "source": [
        "df = get_metric_summaries(4151, user_agent, window=360, return_pre_avg=True)"
      ],
      "metadata": {
        "id": "reeFcEMcdDHj"
      },
      "execution_count": 17,
      "outputs": []
    },
    {
      "cell_type": "code",
      "source": [
        "df['pressure'].plot()"
      ],
      "metadata": {
        "colab": {
          "base_uri": "https://localhost:8080/",
          "height": 285
        },
        "id": "iYlg66USekcN",
        "outputId": "c0f6a86c-0fe9-4413-873e-7986aff394b5"
      },
      "execution_count": 18,
      "outputs": [
        {
          "output_type": "execute_result",
          "data": {
            "text/plain": [
              "<matplotlib.axes._subplots.AxesSubplot at 0x7f690d2b8b50>"
            ]
          },
          "metadata": {},
          "execution_count": 18
        },
        {
          "output_type": "display_data",
          "data": {
            "image/png": "[encoded data removed]",
            "text/plain": [
              "<Figure size 432x288 with 1 Axes>"
            ]
          },
          "metadata": {
            "needs_background": "light"
          }
        }
      ]
    },
    {
      "cell_type": "code",
      "source": [
        "df['margin'].plot()"
      ],
      "metadata": {
        "colab": {
          "base_uri": "https://localhost:8080/",
          "height": 285
        },
        "id": "2NlWaMLFdfIc",
        "outputId": "da45110b-87cd-4a68-c9fe-6d2daf833de5"
      },
      "execution_count": 19,
      "outputs": [
        {
          "output_type": "execute_result",
          "data": {
            "text/plain": [
              "<matplotlib.axes._subplots.AxesSubplot at 0x7f690d22c6d0>"
            ]
          },
          "metadata": {},
          "execution_count": 19
        },
        {
          "output_type": "display_data",
          "data": {
            "image/png": "[encoded data removed]",
            "text/plain": [
              "<Figure size 432x288 with 1 Axes>"
            ]
          },
          "metadata": {
            "needs_background": "light"
          }
        }
      ]
    },
    {
      "cell_type": "code",
      "source": [
        "df['margin'].hist()"
      ],
      "metadata": {
        "colab": {
          "base_uri": "https://localhost:8080/",
          "height": 285
        },
        "id": "2zCaseOU5Tdp",
        "outputId": "25417df8-96e8-4c08-e99f-c691aad3bc0e"
      },
      "execution_count": 20,
      "outputs": [
        {
          "output_type": "execute_result",
          "data": {
            "text/plain": [
              "<matplotlib.axes._subplots.AxesSubplot at 0x7f690d20e790>"
            ]
          },
          "metadata": {},
          "execution_count": 20
        },
        {
          "output_type": "display_data",
          "data": {
            "image/png": "[encoded data removed]",
            "text/plain": [
              "<Figure size 432x288 with 1 Axes>"
            ]
          },
          "metadata": {
            "needs_background": "light"
          }
        }
      ]
    },
    {
      "cell_type": "markdown",
      "source": [
        "# Evaluate the efficacy of running_pressure as a predictor of margin movement"
      ],
      "metadata": {
        "id": "019MCSS29tV5"
      }
    },
    {
      "cell_type": "code",
      "source": [
        "def shifted_crosscorr(series1, series2, lag=0):\n",
        "    df = pd.concat([series1, series2.shift(lag)], axis=1)\n",
        "    return df.corr().values.tolist()[0][1]"
      ],
      "metadata": {
        "id": "an6YkxRJ29RZ"
      },
      "execution_count": 21,
      "outputs": []
    },
    {
      "cell_type": "code",
      "source": [
        "def window_lag_grid_search(series1, series2, max_window=12, max_lag=12):\n",
        "    # SERIES1 IS THE PREDICTOR\n",
        "    # SERIES2 IS THE PREDICTED\n",
        "    max_corr = 0\n",
        "    best_window = 0\n",
        "    best_lag = 0\n",
        "\n",
        "    for window in range(1, max_window):\n",
        "        for lag in range(1, max_lag):\n",
        "            series1_rolling = series1.rolling(window).sum() / window\n",
        "            corr = shifted_crosscorr(series1_rolling, series2, lag=lag)\n",
        "            if corr > max_corr:\n",
        "                max_corr = corr\n",
        "                best_window = window\n",
        "                best_lag = lag\n",
        "                \n",
        "    return max_corr, best_window, best_lag"
      ],
      "metadata": {
        "id": "ggJ5yUIq6CYQ"
      },
      "execution_count": 22,
      "outputs": []
    },
    {
      "cell_type": "code",
      "source": [
        "# Handful of items which have relatively high volume trading\n",
        "for item_id in [2, 4151, 4585, 554, 21820, 13263, 810, 2481, 21817, 2452, 10476, 569]: \n",
        "    df = get_metric_summaries(item_id, user_agent, window=1440, return_pre_avg=True) # 1440 is a days worth of data\n",
        "    corr, window, lag = window_lag_grid_search(df['pressure'], df['margin'])\n",
        "    print(f\"Item {item_id} has max corr {corr} with window {window} and lag {lag}\")"
      ],
      "metadata": {
        "colab": {
          "base_uri": "https://localhost:8080/"
        },
        "id": "LjH9XOiRrlvM",
        "outputId": "2cb5c8a1-ecce-4695-e8ac-caec78ab0284"
      },
      "execution_count": 23,
      "outputs": [
        {
          "output_type": "stream",
          "name": "stdout",
          "text": [
            "Item 2 has max corr 0.18607015746528605 with window 1 and lag 5\n",
            "Item 4151 has max corr 0.1346380183941272 with window 1 and lag 11\n",
            "Item 4585 has max corr 0.14151114248162722 with window 1 and lag 7\n",
            "Item 554 has max corr 0.14262427696120217 with window 2 and lag 2\n",
            "Item 21820 has max corr 0.12726138340159213 with window 7 and lag 1\n",
            "Item 13263 has max corr 0.15349970920554346 with window 4 and lag 6\n",
            "Item 810 has max corr 0.040306325217402905 with window 1 and lag 7\n",
            "Item 2481 has max corr 0.24282783539241068 with window 2 and lag 8\n",
            "Item 21817 has max corr 0.23068487422655562 with window 5 and lag 5\n",
            "Item 2452 has max corr 0.3311450821740226 with window 10 and lag 1\n",
            "Item 10476 has max corr 0.24370298969101328 with window 8 and lag 3\n",
            "Item 569 has max corr 0.21322857322419814 with window 6 and lag 11\n"
          ]
        }
      ]
    },
    {
      "cell_type": "markdown",
      "source": [
        "This shows the potential to use running pressure as a predictor for margin for specific items, but also shows that this approach probably wont work generally for all items. Should be explored for specific item if a need for pricing prediction arrises."
      ],
      "metadata": {
        "id": "DUyx0VYgtL0s"
      }
    },
    {
      "cell_type": "markdown",
      "source": [
        "# Build function which returns 24hr volume"
      ],
      "metadata": {
        "id": "qWOcPBO9gJaP"
      }
    },
    {
      "cell_type": "code",
      "source": [
        "def get_daily_volume(user_agent):\n",
        "    endpoint = \"https://prices.runescape.wiki/api/v1/osrs/24h\"\n",
        "    r = requests.get(endpoint, headers={\"User-Agent\": user_agent})\n",
        "    data = json.loads(r.text)['data']\n",
        "    data_dict = {'id': [], 'volume': []}\n",
        "    for k, v in data.items():\n",
        "        data_dict['id'].append(k)\n",
        "        data_dict['volume'].append(v['highPriceVolume'] + v['lowPriceVolume'])\n",
        "    df = pd.DataFrame(data_dict)\n",
        "    df.set_index('id', inplace=True)\n",
        "    df.index = df.index.map(int)\n",
        "    return df"
      ],
      "metadata": {
        "id": "jC4jXHZRgfOo"
      },
      "execution_count": 24,
      "outputs": []
    },
    {
      "cell_type": "code",
      "source": [
        "volume_table = get_daily_volume(user_agent)\n",
        "volume_table.head()"
      ],
      "metadata": {
        "colab": {
          "base_uri": "https://localhost:8080/",
          "height": 238
        },
        "id": "5c3jUIMb26Mh",
        "outputId": "8662cd28-33ae-4693-815e-8274ef514518"
      },
      "execution_count": 25,
      "outputs": [
        {
          "output_type": "execute_result",
          "data": {
            "text/html": [
              "\n",
              "  <div id=\"df-a596dfa6-fa08-4ef2-94d3-f61c623d86f0\">\n",
              "    <div class=\"colab-df-container\">\n",
              "      <div>\n",
              "<style scoped>\n",
              "    .dataframe tbody tr th:only-of-type {\n",
              "        vertical-align: middle;\n",
              "    }\n",
              "\n",
              "    .dataframe tbody tr th {\n",
              "        vertical-align: top;\n",
              "    }\n",
              "\n",
              "    .dataframe thead th {\n",
              "        text-align: right;\n",
              "    }\n",
              "</style>\n",
              "<table border=\"1\" class=\"dataframe\">\n",
              "  <thead>\n",
              "    <tr style=\"text-align: right;\">\n",
              "      <th></th>\n",
              "      <th>volume</th>\n",
              "    </tr>\n",
              "    <tr>\n",
              "      <th>id</th>\n",
              "      <th></th>\n",
              "    </tr>\n",
              "  </thead>\n",
              "  <tbody>\n",
              "    <tr>\n",
              "      <th>2</th>\n",
              "      <td>21157062</td>\n",
              "    </tr>\n",
              "    <tr>\n",
              "      <th>6</th>\n",
              "      <td>353</td>\n",
              "    </tr>\n",
              "    <tr>\n",
              "      <th>8</th>\n",
              "      <td>310</td>\n",
              "    </tr>\n",
              "    <tr>\n",
              "      <th>10</th>\n",
              "      <td>311</td>\n",
              "    </tr>\n",
              "    <tr>\n",
              "      <th>12</th>\n",
              "      <td>297</td>\n",
              "    </tr>\n",
              "  </tbody>\n",
              "</table>\n",
              "</div>\n",
              "      <button class=\"colab-df-convert\" onclick=\"convertToInteractive('df-a596dfa6-fa08-4ef2-94d3-f61c623d86f0')\"\n",
              "              title=\"Convert this dataframe to an interactive table.\"\n",
              "              style=\"display:none;\">\n",
              "        \n",
              "  <svg xmlns=\"http://www.w3.org/2000/svg\" height=\"24px\"viewBox=\"0 0 24 24\"\n",
              "       width=\"24px\">\n",
              "    <path d=\"M0 0h24v24H0V0z\" fill=\"none\"/>\n",
              "    <path d=\"M18.56 5.44l.94 2.06.94-2.06 2.06-.94-2.06-.94-.94-2.06-.94 2.06-2.06.94zm-11 1L8.5 8.5l.94-2.06 2.06-.94-2.06-.94L8.5 2.5l-.94 2.06-2.06.94zm10 10l.94 2.06.94-2.06 2.06-.94-2.06-.94-.94-2.06-.94 2.06-2.06.94z\"/><path d=\"M17.41 7.96l-1.37-1.37c-.4-.4-.92-.59-1.43-.59-.52 0-1.04.2-1.43.59L10.3 9.45l-7.72 7.72c-.78.78-.78 2.05 0 2.83L4 21.41c.39.39.9.59 1.41.59.51 0 1.02-.2 1.41-.59l7.78-7.78 2.81-2.81c.8-.78.8-2.07 0-2.86zM5.41 20L4 18.59l7.72-7.72 1.47 1.35L5.41 20z\"/>\n",
              "  </svg>\n",
              "      </button>\n",
              "      \n",
              "  <style>\n",
              "    .colab-df-container {\n",
              "      display:flex;\n",
              "      flex-wrap:wrap;\n",
              "      gap: 12px;\n",
              "    }\n",
              "\n",
              "    .colab-df-convert {\n",
              "      background-color: #E8F0FE;\n",
              "      border: none;\n",
              "      border-radius: 50%;\n",
              "      cursor: pointer;\n",
              "      display: none;\n",
              "      fill: #1967D2;\n",
              "      height: 32px;\n",
              "      padding: 0 0 0 0;\n",
              "      width: 32px;\n",
              "    }\n",
              "\n",
              "    .colab-df-convert:hover {\n",
              "      background-color: #E2EBFA;\n",
              "      box-shadow: 0px 1px 2px rgba(60, 64, 67, 0.3), 0px 1px 3px 1px rgba(60, 64, 67, 0.15);\n",
              "      fill: #174EA6;\n",
              "    }\n",
              "\n",
              "    [theme=dark] .colab-df-convert {\n",
              "      background-color: #3B4455;\n",
              "      fill: #D2E3FC;\n",
              "    }\n",
              "\n",
              "    [theme=dark] .colab-df-convert:hover {\n",
              "      background-color: #434B5C;\n",
              "      box-shadow: 0px 1px 3px 1px rgba(0, 0, 0, 0.15);\n",
              "      filter: drop-shadow(0px 1px 2px rgba(0, 0, 0, 0.3));\n",
              "      fill: #FFFFFF;\n",
              "    }\n",
              "  </style>\n",
              "\n",
              "      <script>\n",
              "        const buttonEl =\n",
              "          document.querySelector('#df-a596dfa6-fa08-4ef2-94d3-f61c623d86f0 button.colab-df-convert');\n",
              "        buttonEl.style.display =\n",
              "          google.colab.kernel.accessAllowed ? 'block' : 'none';\n",
              "\n",
              "        async function convertToInteractive(key) {\n",
              "          const element = document.querySelector('#df-a596dfa6-fa08-4ef2-94d3-f61c623d86f0');\n",
              "          const dataTable =\n",
              "            await google.colab.kernel.invokeFunction('convertToInteractive',\n",
              "                                                     [key], {});\n",
              "          if (!dataTable) return;\n",
              "\n",
              "          const docLinkHtml = 'Like what you see? Visit the ' +\n",
              "            '<a target=\"_blank\" href=https://colab.research.google.com/notebooks/data_table.ipynb>data table notebook</a>'\n",
              "            + ' to learn more about interactive tables.';\n",
              "          element.innerHTML = '';\n",
              "          dataTable['output_type'] = 'display_data';\n",
              "          await google.colab.output.renderOutput(dataTable, element);\n",
              "          const docLink = document.createElement('div');\n",
              "          docLink.innerHTML = docLinkHtml;\n",
              "          element.appendChild(docLink);\n",
              "        }\n",
              "      </script>\n",
              "    </div>\n",
              "  </div>\n",
              "  "
            ],
            "text/plain": [
              "      volume\n",
              "id          \n",
              "2   21157062\n",
              "6        353\n",
              "8        310\n",
              "10       311\n",
              "12       297"
            ]
          },
          "metadata": {},
          "execution_count": 25
        }
      ]
    },
    {
      "cell_type": "markdown",
      "source": [
        "# Build 24hr liquidity table\n",
        "\n",
        "We will score each item's liquidity by calculating ` total_global_trade_volume / daily_buy_limit `. This is a measure of how easily one can buy and sell an item."
      ],
      "metadata": {
        "id": "oXCa3YFljC3u"
      }
    },
    {
      "cell_type": "code",
      "source": [
        "def get_liquidity_table(limit_table, user_agent):\n",
        "    '''\n",
        "    Returns a DataFrame which scores each item with a liquidity score\n",
        "    meant to measure how easily one can buy and sell an item\n",
        "\n",
        "    Params:\n",
        "        limit_table:pandas.DataFrame\n",
        "            A table with schema (id(index), volume) where id is the\n",
        "            unique item id and volume is the global trade volume for the 24hr period\n",
        "        user_agent:str\n",
        "            User-Agent for API\n",
        "    \n",
        "    Returns:\n",
        "        pandas.DataFrame\n",
        "        A table with schema (id(index), name, limit, volume, liquidity score)\n",
        "        where liquidity score is defined as total_global_trade_volume / daily_buy_limit\n",
        "    '''\n",
        "\n",
        "    volume_table = get_daily_volume(user_agent)\n",
        "    liquidity_table = limit_table.join(volume_table, how='left').sort_index()\n",
        "\n",
        "    # Can purchase 6 limits per day so we multiply by 6\n",
        "    liquidity_table['liquidity_score'] = liquidity_table['volume'] / liquidity_table['limit'] * 6 \n",
        "    liquidity_table.dropna(inplace=True)\n",
        "    liquidity_table = liquidity_table.sort_values(by='liquidity_score', ascending=True)\n",
        "\n",
        "    return liquidity_table"
      ],
      "metadata": {
        "id": "UWG3H2E-5FFa"
      },
      "execution_count": 26,
      "outputs": []
    },
    {
      "cell_type": "code",
      "source": [
        "liquidity_table = get_liquidity_table(limit_table, user_agent)\n",
        "liquidity_table.head()"
      ],
      "metadata": {
        "colab": {
          "base_uri": "https://localhost:8080/",
          "height": 238
        },
        "id": "yH3NYS58hdbJ",
        "outputId": "3fab8d79-8914-48c8-8eee-b33e331fa6ce"
      },
      "execution_count": 27,
      "outputs": [
        {
          "output_type": "execute_result",
          "data": {
            "text/html": [
              "\n",
              "  <div id=\"df-13837289-d776-4b88-bdcf-ad87acaef1db\">\n",
              "    <div class=\"colab-df-container\">\n",
              "      <div>\n",
              "<style scoped>\n",
              "    .dataframe tbody tr th:only-of-type {\n",
              "        vertical-align: middle;\n",
              "    }\n",
              "\n",
              "    .dataframe tbody tr th {\n",
              "        vertical-align: top;\n",
              "    }\n",
              "\n",
              "    .dataframe thead th {\n",
              "        text-align: right;\n",
              "    }\n",
              "</style>\n",
              "<table border=\"1\" class=\"dataframe\">\n",
              "  <thead>\n",
              "    <tr style=\"text-align: right;\">\n",
              "      <th></th>\n",
              "      <th>name</th>\n",
              "      <th>limit</th>\n",
              "      <th>volume</th>\n",
              "      <th>liquidity_score</th>\n",
              "    </tr>\n",
              "    <tr>\n",
              "      <th>id</th>\n",
              "      <th></th>\n",
              "      <th></th>\n",
              "      <th></th>\n",
              "      <th></th>\n",
              "    </tr>\n",
              "  </thead>\n",
              "  <tbody>\n",
              "    <tr>\n",
              "      <th>7064</th>\n",
              "      <td>Egg and tomato</td>\n",
              "      <td>13000</td>\n",
              "      <td>1.0</td>\n",
              "      <td>0.000462</td>\n",
              "    </tr>\n",
              "    <tr>\n",
              "      <th>2021</th>\n",
              "      <td>Brandy</td>\n",
              "      <td>13000</td>\n",
              "      <td>1.0</td>\n",
              "      <td>0.000462</td>\n",
              "    </tr>\n",
              "    <tr>\n",
              "      <th>21926</th>\n",
              "      <td>Dragon bolts (p+)</td>\n",
              "      <td>11000</td>\n",
              "      <td>1.0</td>\n",
              "      <td>0.000545</td>\n",
              "    </tr>\n",
              "    <tr>\n",
              "      <th>6213</th>\n",
              "      <td>Mahogany pyre logs</td>\n",
              "      <td>11000</td>\n",
              "      <td>1.0</td>\n",
              "      <td>0.000545</td>\n",
              "    </tr>\n",
              "    <tr>\n",
              "      <th>6171</th>\n",
              "      <td>Flattened hide</td>\n",
              "      <td>11000</td>\n",
              "      <td>1.0</td>\n",
              "      <td>0.000545</td>\n",
              "    </tr>\n",
              "  </tbody>\n",
              "</table>\n",
              "</div>\n",
              "      <button class=\"colab-df-convert\" onclick=\"convertToInteractive('df-13837289-d776-4b88-bdcf-ad87acaef1db')\"\n",
              "              title=\"Convert this dataframe to an interactive table.\"\n",
              "              style=\"display:none;\">\n",
              "        \n",
              "  <svg xmlns=\"http://www.w3.org/2000/svg\" height=\"24px\"viewBox=\"0 0 24 24\"\n",
              "       width=\"24px\">\n",
              "    <path d=\"M0 0h24v24H0V0z\" fill=\"none\"/>\n",
              "    <path d=\"M18.56 5.44l.94 2.06.94-2.06 2.06-.94-2.06-.94-.94-2.06-.94 2.06-2.06.94zm-11 1L8.5 8.5l.94-2.06 2.06-.94-2.06-.94L8.5 2.5l-.94 2.06-2.06.94zm10 10l.94 2.06.94-2.06 2.06-.94-2.06-.94-.94-2.06-.94 2.06-2.06.94z\"/><path d=\"M17.41 7.96l-1.37-1.37c-.4-.4-.92-.59-1.43-.59-.52 0-1.04.2-1.43.59L10.3 9.45l-7.72 7.72c-.78.78-.78 2.05 0 2.83L4 21.41c.39.39.9.59 1.41.59.51 0 1.02-.2 1.41-.59l7.78-7.78 2.81-2.81c.8-.78.8-2.07 0-2.86zM5.41 20L4 18.59l7.72-7.72 1.47 1.35L5.41 20z\"/>\n",
              "  </svg>\n",
              "      </button>\n",
              "      \n",
              "  <style>\n",
              "    .colab-df-container {\n",
              "      display:flex;\n",
              "      flex-wrap:wrap;\n",
              "      gap: 12px;\n",
              "    }\n",
              "\n",
              "    .colab-df-convert {\n",
              "      background-color: #E8F0FE;\n",
              "      border: none;\n",
              "      border-radius: 50%;\n",
              "      cursor: pointer;\n",
              "      display: none;\n",
              "      fill: #1967D2;\n",
              "      height: 32px;\n",
              "      padding: 0 0 0 0;\n",
              "      width: 32px;\n",
              "    }\n",
              "\n",
              "    .colab-df-convert:hover {\n",
              "      background-color: #E2EBFA;\n",
              "      box-shadow: 0px 1px 2px rgba(60, 64, 67, 0.3), 0px 1px 3px 1px rgba(60, 64, 67, 0.15);\n",
              "      fill: #174EA6;\n",
              "    }\n",
              "\n",
              "    [theme=dark] .colab-df-convert {\n",
              "      background-color: #3B4455;\n",
              "      fill: #D2E3FC;\n",
              "    }\n",
              "\n",
              "    [theme=dark] .colab-df-convert:hover {\n",
              "      background-color: #434B5C;\n",
              "      box-shadow: 0px 1px 3px 1px rgba(0, 0, 0, 0.15);\n",
              "      filter: drop-shadow(0px 1px 2px rgba(0, 0, 0, 0.3));\n",
              "      fill: #FFFFFF;\n",
              "    }\n",
              "  </style>\n",
              "\n",
              "      <script>\n",
              "        const buttonEl =\n",
              "          document.querySelector('#df-13837289-d776-4b88-bdcf-ad87acaef1db button.colab-df-convert');\n",
              "        buttonEl.style.display =\n",
              "          google.colab.kernel.accessAllowed ? 'block' : 'none';\n",
              "\n",
              "        async function convertToInteractive(key) {\n",
              "          const element = document.querySelector('#df-13837289-d776-4b88-bdcf-ad87acaef1db');\n",
              "          const dataTable =\n",
              "            await google.colab.kernel.invokeFunction('convertToInteractive',\n",
              "                                                     [key], {});\n",
              "          if (!dataTable) return;\n",
              "\n",
              "          const docLinkHtml = 'Like what you see? Visit the ' +\n",
              "            '<a target=\"_blank\" href=https://colab.research.google.com/notebooks/data_table.ipynb>data table notebook</a>'\n",
              "            + ' to learn more about interactive tables.';\n",
              "          element.innerHTML = '';\n",
              "          dataTable['output_type'] = 'display_data';\n",
              "          await google.colab.output.renderOutput(dataTable, element);\n",
              "          const docLink = document.createElement('div');\n",
              "          docLink.innerHTML = docLinkHtml;\n",
              "          element.appendChild(docLink);\n",
              "        }\n",
              "      </script>\n",
              "    </div>\n",
              "  </div>\n",
              "  "
            ],
            "text/plain": [
              "                     name  limit  volume  liquidity_score\n",
              "id                                                       \n",
              "7064       Egg and tomato  13000     1.0         0.000462\n",
              "2021               Brandy  13000     1.0         0.000462\n",
              "21926   Dragon bolts (p+)  11000     1.0         0.000545\n",
              "6213   Mahogany pyre logs  11000     1.0         0.000545\n",
              "6171       Flattened hide  11000     1.0         0.000545"
            ]
          },
          "metadata": {},
          "execution_count": 27
        }
      ]
    },
    {
      "cell_type": "markdown",
      "source": [
        "# Define code to generate at a glance statistics\n",
        "\n",
        "Create function to generate summary statistics at a glance. Combines outputs of previously defined functions"
      ],
      "metadata": {
        "id": "EJEul2mK425E"
      }
    },
    {
      "cell_type": "code",
      "source": [
        "def multiple_metric_summaries(item_ids, liquidity_table, user_agent, window=60):\n",
        "    '''\n",
        "    Returns a DataFrame of summary statistics for item_ids over the last\n",
        "    window number of 5-minute time chunks.\n",
        "\n",
        "    Params:\n",
        "        item_ids:list[int]\n",
        "            List of unique ids corresponding to an in-game items\n",
        "        user_agent:str\n",
        "            The API User-Agent\n",
        "        window:int (optional) (default=60)\n",
        "            The number of past-minutes from which to gather pricing data.\n",
        "            ex. window=60 would be the pricing data from last hour\n",
        "    \n",
        "    Returns:\n",
        "        pandas.DataFrame\n",
        "            Schema of (id(index), avg_margin, pressure, resolution,\n",
        "                       lowest_margin_95%_conf, highest_margin_95%_conf)\n",
        "            avg_margin - post-tax average high_price - low_price\n",
        "            pressure - average high_price_volume - low_price_volume\n",
        "            resolution - % of data which had no NaN's (and was not dropped)\n",
        "            lowest/highest_margin_95%_conf - lower/upper bounds of 95% margin conf interval\n",
        "    '''\n",
        "    item_dfs = []\n",
        "\n",
        "    for id in item_ids:\n",
        "        temp_series = get_metric_summaries(id, user_agent, window=window)\n",
        "\n",
        "        if temp_series is -1: # No trades for the item exist so no metrics to summarize\n",
        "            continue\n",
        "\n",
        "        temp_df = pd.DataFrame(temp_series.values, index=temp_series.index).transpose()\n",
        "        temp_df.index = [id]\n",
        "        item_dfs.append(temp_df)\n",
        "\n",
        "    return pd.concat(item_dfs)\n"
      ],
      "metadata": {
        "id": "RDydETVS3Jj-"
      },
      "execution_count": 28,
      "outputs": []
    },
    {
      "cell_type": "code",
      "source": [
        "multiple_metric_summaries([2, 809], liquidity_table, user_agent, window=360)"
      ],
      "metadata": {
        "colab": {
          "base_uri": "https://localhost:8080/",
          "height": 112
        },
        "id": "XttBwMjW8f-s",
        "outputId": "e1edd488-bfb1-4668-8a0a-368611612da1"
      },
      "execution_count": 29,
      "outputs": [
        {
          "output_type": "execute_result",
          "data": {
            "text/html": [
              "\n",
              "  <div id=\"df-2e63bf04-c984-43f2-900c-3374f543ffcc\">\n",
              "    <div class=\"colab-df-container\">\n",
              "      <div>\n",
              "<style scoped>\n",
              "    .dataframe tbody tr th:only-of-type {\n",
              "        vertical-align: middle;\n",
              "    }\n",
              "\n",
              "    .dataframe tbody tr th {\n",
              "        vertical-align: top;\n",
              "    }\n",
              "\n",
              "    .dataframe thead th {\n",
              "        text-align: right;\n",
              "    }\n",
              "</style>\n",
              "<table border=\"1\" class=\"dataframe\">\n",
              "  <thead>\n",
              "    <tr style=\"text-align: right;\">\n",
              "      <th></th>\n",
              "      <th>avg_margin</th>\n",
              "      <th>pressure</th>\n",
              "      <th>resolution</th>\n",
              "      <th>lowest_margin_95%_conf</th>\n",
              "      <th>highest_margin_95%_conf</th>\n",
              "    </tr>\n",
              "  </thead>\n",
              "  <tbody>\n",
              "    <tr>\n",
              "      <th>2</th>\n",
              "      <td>2.245139</td>\n",
              "      <td>26310.472222</td>\n",
              "      <td>1.000000</td>\n",
              "      <td>-1.671100</td>\n",
              "      <td>6.161378</td>\n",
              "    </tr>\n",
              "    <tr>\n",
              "      <th>809</th>\n",
              "      <td>2.587193</td>\n",
              "      <td>-1919.561404</td>\n",
              "      <td>0.791667</td>\n",
              "      <td>-0.705309</td>\n",
              "      <td>5.879695</td>\n",
              "    </tr>\n",
              "  </tbody>\n",
              "</table>\n",
              "</div>\n",
              "      <button class=\"colab-df-convert\" onclick=\"convertToInteractive('df-2e63bf04-c984-43f2-900c-3374f543ffcc')\"\n",
              "              title=\"Convert this dataframe to an interactive table.\"\n",
              "              style=\"display:none;\">\n",
              "        \n",
              "  <svg xmlns=\"http://www.w3.org/2000/svg\" height=\"24px\"viewBox=\"0 0 24 24\"\n",
              "       width=\"24px\">\n",
              "    <path d=\"M0 0h24v24H0V0z\" fill=\"none\"/>\n",
              "    <path d=\"M18.56 5.44l.94 2.06.94-2.06 2.06-.94-2.06-.94-.94-2.06-.94 2.06-2.06.94zm-11 1L8.5 8.5l.94-2.06 2.06-.94-2.06-.94L8.5 2.5l-.94 2.06-2.06.94zm10 10l.94 2.06.94-2.06 2.06-.94-2.06-.94-.94-2.06-.94 2.06-2.06.94z\"/><path d=\"M17.41 7.96l-1.37-1.37c-.4-.4-.92-.59-1.43-.59-.52 0-1.04.2-1.43.59L10.3 9.45l-7.72 7.72c-.78.78-.78 2.05 0 2.83L4 21.41c.39.39.9.59 1.41.59.51 0 1.02-.2 1.41-.59l7.78-7.78 2.81-2.81c.8-.78.8-2.07 0-2.86zM5.41 20L4 18.59l7.72-7.72 1.47 1.35L5.41 20z\"/>\n",
              "  </svg>\n",
              "      </button>\n",
              "      \n",
              "  <style>\n",
              "    .colab-df-container {\n",
              "      display:flex;\n",
              "      flex-wrap:wrap;\n",
              "      gap: 12px;\n",
              "    }\n",
              "\n",
              "    .colab-df-convert {\n",
              "      background-color: #E8F0FE;\n",
              "      border: none;\n",
              "      border-radius: 50%;\n",
              "      cursor: pointer;\n",
              "      display: none;\n",
              "      fill: #1967D2;\n",
              "      height: 32px;\n",
              "      padding: 0 0 0 0;\n",
              "      width: 32px;\n",
              "    }\n",
              "\n",
              "    .colab-df-convert:hover {\n",
              "      background-color: #E2EBFA;\n",
              "      box-shadow: 0px 1px 2px rgba(60, 64, 67, 0.3), 0px 1px 3px 1px rgba(60, 64, 67, 0.15);\n",
              "      fill: #174EA6;\n",
              "    }\n",
              "\n",
              "    [theme=dark] .colab-df-convert {\n",
              "      background-color: #3B4455;\n",
              "      fill: #D2E3FC;\n",
              "    }\n",
              "\n",
              "    [theme=dark] .colab-df-convert:hover {\n",
              "      background-color: #434B5C;\n",
              "      box-shadow: 0px 1px 3px 1px rgba(0, 0, 0, 0.15);\n",
              "      filter: drop-shadow(0px 1px 2px rgba(0, 0, 0, 0.3));\n",
              "      fill: #FFFFFF;\n",
              "    }\n",
              "  </style>\n",
              "\n",
              "      <script>\n",
              "        const buttonEl =\n",
              "          document.querySelector('#df-2e63bf04-c984-43f2-900c-3374f543ffcc button.colab-df-convert');\n",
              "        buttonEl.style.display =\n",
              "          google.colab.kernel.accessAllowed ? 'block' : 'none';\n",
              "\n",
              "        async function convertToInteractive(key) {\n",
              "          const element = document.querySelector('#df-2e63bf04-c984-43f2-900c-3374f543ffcc');\n",
              "          const dataTable =\n",
              "            await google.colab.kernel.invokeFunction('convertToInteractive',\n",
              "                                                     [key], {});\n",
              "          if (!dataTable) return;\n",
              "\n",
              "          const docLinkHtml = 'Like what you see? Visit the ' +\n",
              "            '<a target=\"_blank\" href=https://colab.research.google.com/notebooks/data_table.ipynb>data table notebook</a>'\n",
              "            + ' to learn more about interactive tables.';\n",
              "          element.innerHTML = '';\n",
              "          dataTable['output_type'] = 'display_data';\n",
              "          await google.colab.output.renderOutput(dataTable, element);\n",
              "          const docLink = document.createElement('div');\n",
              "          docLink.innerHTML = docLinkHtml;\n",
              "          element.appendChild(docLink);\n",
              "        }\n",
              "      </script>\n",
              "    </div>\n",
              "  </div>\n",
              "  "
            ],
            "text/plain": [
              "     avg_margin      pressure  ...  lowest_margin_95%_conf  highest_margin_95%_conf\n",
              "2      2.245139  26310.472222  ...               -1.671100                 6.161378\n",
              "809    2.587193  -1919.561404  ...               -0.705309                 5.879695\n",
              "\n",
              "[2 rows x 5 columns]"
            ]
          },
          "metadata": {},
          "execution_count": 29
        }
      ]
    },
    {
      "cell_type": "markdown",
      "source": [
        "# Make final table.\n",
        "Combine previous tables to make final summary statistics table"
      ],
      "metadata": {
        "id": "aoUtQP1UD7Jf"
      }
    },
    {
      "cell_type": "code",
      "source": [
        "def get_data(item_ids, liquidity_table, user_agent, window=1440):\n",
        "    multiple_metric_summaries_df = multiple_metric_summaries(item_ids, liquidity_table, user_agent, window=window)\n",
        "    df = multiple_metric_summaries_df.join(liquidity_table, how='left').sort_index()\n",
        "    \n",
        "    return df"
      ],
      "metadata": {
        "id": "YRZ3tjL2D1PT"
      },
      "execution_count": 30,
      "outputs": []
    },
    {
      "cell_type": "code",
      "source": [
        "cols = ['name', 'volume', 'limit', 'lowest_margin_95%_conf', 'highest_margin_95%_conf', 'avg_margin', 'pressure', 'resolution', 'liquidity_score']"
      ],
      "metadata": {
        "id": "X9eSoxtiFjjo"
      },
      "execution_count": 31,
      "outputs": []
    },
    {
      "cell_type": "code",
      "source": [
        "user_agent = \"Call to populate table w/ ~24hr margins/volume. - @Nadr0j#5823\""
      ],
      "metadata": {
        "id": "mJaVvzaCPA1K"
      },
      "execution_count": 32,
      "outputs": []
    },
    {
      "cell_type": "code",
      "source": [
        "#item_ids = limit_table.index\n",
        "# NOTE: Makes # API calls equal to number of items in item_ids\n",
        "item_ids = [2, 4151, 314, 22326, 9075, 4087, 4712]\n",
        "df = get_data(item_ids, liquidity_table, user_agent, window=1440)\n",
        "df[cols]"
      ],
      "metadata": {
        "colab": {
          "base_uri": "https://localhost:8080/",
          "height": 402
        },
        "id": "u4yWD6mtE15Z",
        "outputId": "9675f731-0754-4b14-aae9-c02007a03dc7"
      },
      "execution_count": 33,
      "outputs": [
        {
          "output_type": "execute_result",
          "data": {
            "text/html": [
              "\n",
              "  <div id=\"df-c432137d-2dbd-47cd-8de3-cfd86b1ba51c\">\n",
              "    <div class=\"colab-df-container\">\n",
              "      <div>\n",
              "<style scoped>\n",
              "    .dataframe tbody tr th:only-of-type {\n",
              "        vertical-align: middle;\n",
              "    }\n",
              "\n",
              "    .dataframe tbody tr th {\n",
              "        vertical-align: top;\n",
              "    }\n",
              "\n",
              "    .dataframe thead th {\n",
              "        text-align: right;\n",
              "    }\n",
              "</style>\n",
              "<table border=\"1\" class=\"dataframe\">\n",
              "  <thead>\n",
              "    <tr style=\"text-align: right;\">\n",
              "      <th></th>\n",
              "      <th>name</th>\n",
              "      <th>volume</th>\n",
              "      <th>limit</th>\n",
              "      <th>lowest_margin_95%_conf</th>\n",
              "      <th>highest_margin_95%_conf</th>\n",
              "      <th>avg_margin</th>\n",
              "      <th>pressure</th>\n",
              "      <th>resolution</th>\n",
              "      <th>liquidity_score</th>\n",
              "    </tr>\n",
              "  </thead>\n",
              "  <tbody>\n",
              "    <tr>\n",
              "      <th>2</th>\n",
              "      <td>Cannonball</td>\n",
              "      <td>21157062.0</td>\n",
              "      <td>11000</td>\n",
              "      <td>-2.177088</td>\n",
              "      <td>6.021173</td>\n",
              "      <td>1.922042</td>\n",
              "      <td>29330.281690</td>\n",
              "      <td>0.986111</td>\n",
              "      <td>11540.215636</td>\n",
              "    </tr>\n",
              "    <tr>\n",
              "      <th>314</th>\n",
              "      <td>Feather</td>\n",
              "      <td>32214044.0</td>\n",
              "      <td>30000</td>\n",
              "      <td>0.053504</td>\n",
              "      <td>1.540676</td>\n",
              "      <td>0.797090</td>\n",
              "      <td>62087.132275</td>\n",
              "      <td>0.656250</td>\n",
              "      <td>6442.808800</td>\n",
              "    </tr>\n",
              "    <tr>\n",
              "      <th>4087</th>\n",
              "      <td>Dragon platelegs</td>\n",
              "      <td>11409.0</td>\n",
              "      <td>70</td>\n",
              "      <td>-3344.675452</td>\n",
              "      <td>2055.366498</td>\n",
              "      <td>-644.654477</td>\n",
              "      <td>-33.460251</td>\n",
              "      <td>0.829861</td>\n",
              "      <td>977.914286</td>\n",
              "    </tr>\n",
              "    <tr>\n",
              "      <th>4151</th>\n",
              "      <td>Abyssal whip</td>\n",
              "      <td>3223.0</td>\n",
              "      <td>70</td>\n",
              "      <td>-19595.992078</td>\n",
              "      <td>39072.624218</td>\n",
              "      <td>9738.316070</td>\n",
              "      <td>-0.315175</td>\n",
              "      <td>0.892361</td>\n",
              "      <td>276.257143</td>\n",
              "    </tr>\n",
              "    <tr>\n",
              "      <th>4712</th>\n",
              "      <td>Ahrim's robetop</td>\n",
              "      <td>967.0</td>\n",
              "      <td>15</td>\n",
              "      <td>-18528.875441</td>\n",
              "      <td>49826.588695</td>\n",
              "      <td>15648.856627</td>\n",
              "      <td>0.579882</td>\n",
              "      <td>0.586806</td>\n",
              "      <td>386.800000</td>\n",
              "    </tr>\n",
              "    <tr>\n",
              "      <th>9075</th>\n",
              "      <td>Astral rune</td>\n",
              "      <td>5748933.0</td>\n",
              "      <td>10000</td>\n",
              "      <td>-4.513758</td>\n",
              "      <td>8.467783</td>\n",
              "      <td>1.977012</td>\n",
              "      <td>5279.414938</td>\n",
              "      <td>0.836806</td>\n",
              "      <td>3449.359800</td>\n",
              "    </tr>\n",
              "    <tr>\n",
              "      <th>22326</th>\n",
              "      <td>Justiciar faceguard</td>\n",
              "      <td>305.0</td>\n",
              "      <td>8</td>\n",
              "      <td>-229736.834323</td>\n",
              "      <td>252135.583499</td>\n",
              "      <td>11199.374588</td>\n",
              "      <td>-0.094118</td>\n",
              "      <td>0.295139</td>\n",
              "      <td>228.750000</td>\n",
              "    </tr>\n",
              "  </tbody>\n",
              "</table>\n",
              "</div>\n",
              "      <button class=\"colab-df-convert\" onclick=\"convertToInteractive('df-c432137d-2dbd-47cd-8de3-cfd86b1ba51c')\"\n",
              "              title=\"Convert this dataframe to an interactive table.\"\n",
              "              style=\"display:none;\">\n",
              "        \n",
              "  <svg xmlns=\"http://www.w3.org/2000/svg\" height=\"24px\"viewBox=\"0 0 24 24\"\n",
              "       width=\"24px\">\n",
              "    <path d=\"M0 0h24v24H0V0z\" fill=\"none\"/>\n",
              "    <path d=\"M18.56 5.44l.94 2.06.94-2.06 2.06-.94-2.06-.94-.94-2.06-.94 2.06-2.06.94zm-11 1L8.5 8.5l.94-2.06 2.06-.94-2.06-.94L8.5 2.5l-.94 2.06-2.06.94zm10 10l.94 2.06.94-2.06 2.06-.94-2.06-.94-.94-2.06-.94 2.06-2.06.94z\"/><path d=\"M17.41 7.96l-1.37-1.37c-.4-.4-.92-.59-1.43-.59-.52 0-1.04.2-1.43.59L10.3 9.45l-7.72 7.72c-.78.78-.78 2.05 0 2.83L4 21.41c.39.39.9.59 1.41.59.51 0 1.02-.2 1.41-.59l7.78-7.78 2.81-2.81c.8-.78.8-2.07 0-2.86zM5.41 20L4 18.59l7.72-7.72 1.47 1.35L5.41 20z\"/>\n",
              "  </svg>\n",
              "      </button>\n",
              "      \n",
              "  <style>\n",
              "    .colab-df-container {\n",
              "      display:flex;\n",
              "      flex-wrap:wrap;\n",
              "      gap: 12px;\n",
              "    }\n",
              "\n",
              "    .colab-df-convert {\n",
              "      background-color: #E8F0FE;\n",
              "      border: none;\n",
              "      border-radius: 50%;\n",
              "      cursor: pointer;\n",
              "      display: none;\n",
              "      fill: #1967D2;\n",
              "      height: 32px;\n",
              "      padding: 0 0 0 0;\n",
              "      width: 32px;\n",
              "    }\n",
              "\n",
              "    .colab-df-convert:hover {\n",
              "      background-color: #E2EBFA;\n",
              "      box-shadow: 0px 1px 2px rgba(60, 64, 67, 0.3), 0px 1px 3px 1px rgba(60, 64, 67, 0.15);\n",
              "      fill: #174EA6;\n",
              "    }\n",
              "\n",
              "    [theme=dark] .colab-df-convert {\n",
              "      background-color: #3B4455;\n",
              "      fill: #D2E3FC;\n",
              "    }\n",
              "\n",
              "    [theme=dark] .colab-df-convert:hover {\n",
              "      background-color: #434B5C;\n",
              "      box-shadow: 0px 1px 3px 1px rgba(0, 0, 0, 0.15);\n",
              "      filter: drop-shadow(0px 1px 2px rgba(0, 0, 0, 0.3));\n",
              "      fill: #FFFFFF;\n",
              "    }\n",
              "  </style>\n",
              "\n",
              "      <script>\n",
              "        const buttonEl =\n",
              "          document.querySelector('#df-c432137d-2dbd-47cd-8de3-cfd86b1ba51c button.colab-df-convert');\n",
              "        buttonEl.style.display =\n",
              "          google.colab.kernel.accessAllowed ? 'block' : 'none';\n",
              "\n",
              "        async function convertToInteractive(key) {\n",
              "          const element = document.querySelector('#df-c432137d-2dbd-47cd-8de3-cfd86b1ba51c');\n",
              "          const dataTable =\n",
              "            await google.colab.kernel.invokeFunction('convertToInteractive',\n",
              "                                                     [key], {});\n",
              "          if (!dataTable) return;\n",
              "\n",
              "          const docLinkHtml = 'Like what you see? Visit the ' +\n",
              "            '<a target=\"_blank\" href=https://colab.research.google.com/notebooks/data_table.ipynb>data table notebook</a>'\n",
              "            + ' to learn more about interactive tables.';\n",
              "          element.innerHTML = '';\n",
              "          dataTable['output_type'] = 'display_data';\n",
              "          await google.colab.output.renderOutput(dataTable, element);\n",
              "          const docLink = document.createElement('div');\n",
              "          docLink.innerHTML = docLinkHtml;\n",
              "          element.appendChild(docLink);\n",
              "        }\n",
              "      </script>\n",
              "    </div>\n",
              "  </div>\n",
              "  "
            ],
            "text/plain": [
              "                      name      volume  ...  resolution  liquidity_score\n",
              "2               Cannonball  21157062.0  ...    0.986111     11540.215636\n",
              "314                Feather  32214044.0  ...    0.656250      6442.808800\n",
              "4087      Dragon platelegs     11409.0  ...    0.829861       977.914286\n",
              "4151          Abyssal whip      3223.0  ...    0.892361       276.257143\n",
              "4712       Ahrim's robetop       967.0  ...    0.586806       386.800000\n",
              "9075           Astral rune   5748933.0  ...    0.836806      3449.359800\n",
              "22326  Justiciar faceguard       305.0  ...    0.295139       228.750000\n",
              "\n",
              "[7 rows x 9 columns]"
            ]
          },
          "metadata": {},
          "execution_count": 33
        }
      ]
    },
    {
      "cell_type": "markdown",
      "source": [
        "# Conclusion\n",
        "\n",
        "We have seen how using the real-time pricing API we can use a statistical approach to guide in-game investing decisions.\n",
        "\n",
        "# Further analysis\n",
        "The use of confidence intervals to estimate the true margin for any item requires a normal distribution. **Adding skew and excess kurtosis measures for each item would help a viewer evaluate this assumption**. Additionally, adding a visualization component for historical margins would be beneficial for quick assumption verification"
      ],
      "metadata": {
        "id": "L4MsD-lB4SI_"
      }
    }
  ]
}